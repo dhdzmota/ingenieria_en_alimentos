{
 "cells": [
  {
   "cell_type": "code",
   "execution_count": 1,
   "id": "70f8b940",
   "metadata": {},
   "outputs": [],
   "source": [
    "import pandas as pd"
   ]
  },
  {
   "cell_type": "code",
   "execution_count": 2,
   "id": "280000d7",
   "metadata": {},
   "outputs": [],
   "source": [
    "#chunksize = 10 ** 5\n",
    "#df_list = []\n",
    "#filename = '../data/interim/interim.csv'\n",
    "#with pd.read_csv(filename, chunksize=chunksize, index_col=0) as reader:\n",
    "#    for chunk in reader:\n",
    "#        df_list.append(chunk)\n",
    "#data = pd.concat(df_list)"
   ]
  },
  {
   "cell_type": "code",
   "execution_count": 3,
   "id": "d01677d8",
   "metadata": {},
   "outputs": [],
   "source": [
    "sample = pd.read_csv(\"../data/interim/sample1000_interim.csv\", index_col=0)"
   ]
  },
  {
   "cell_type": "code",
   "execution_count": 4,
   "id": "8b7bbce1",
   "metadata": {},
   "outputs": [],
   "source": [
    "data = pd.read_parquet('../data/interim/interim.parquet')"
   ]
  },
  {
   "cell_type": "code",
   "execution_count": 8,
   "id": "a064dab2",
   "metadata": {},
   "outputs": [],
   "source": [
    "data.loc[sample.index].to_csv('../data/interim/sample1000_interim.csv')"
   ]
  }
 ],
 "metadata": {
  "kernelspec": {
   "display_name": "Python 3 (ipykernel)",
   "language": "python",
   "name": "python3"
  },
  "language_info": {
   "codemirror_mode": {
    "name": "ipython",
    "version": 3
   },
   "file_extension": ".py",
   "mimetype": "text/x-python",
   "name": "python",
   "nbconvert_exporter": "python",
   "pygments_lexer": "ipython3",
   "version": "3.8.10"
  }
 },
 "nbformat": 4,
 "nbformat_minor": 5
}
