{
 "cells": [
  {
   "cell_type": "markdown",
   "id": "10ad8866",
   "metadata": {},
   "source": [
    "## Libraries:"
   ]
  },
  {
   "cell_type": "code",
   "execution_count": 2,
   "id": "714e0279",
   "metadata": {},
   "outputs": [],
   "source": [
    "import requests\n",
    "import json\n",
    "import difflib\n",
    "import pandas as pd\n",
    "import pickle\n",
    "import numpy as np\n",
    "import warnings\n",
    "\n",
    "from json import JSONDecodeError\n",
    "\n",
    "from src.data.ingredients_llm_processed import final_ingredient_list_df"
   ]
  },
  {
   "cell_type": "markdown",
   "id": "95f78aba",
   "metadata": {},
   "source": [
    "# Configuration"
   ]
  },
  {
   "cell_type": "code",
   "execution_count": 3,
   "id": "940b2d19",
   "metadata": {},
   "outputs": [],
   "source": [
    "warnings.filterwarnings(\"ignore\")"
   ]
  },
  {
   "cell_type": "markdown",
   "id": "a52c10be",
   "metadata": {},
   "source": [
    "## Inputs"
   ]
  },
  {
   "cell_type": "code",
   "execution_count": 4,
   "id": "8a7d4ee7",
   "metadata": {},
   "outputs": [],
   "source": [
    "# When reading a pickle, the \"molecules\" key is kept as a list of values, not a string.\n",
    "with open('../data/external/flavor_db.pkl', 'rb') as f:\n",
    "    flavor_db_pkl = pickle.load(f)\n",
    "# In this case, flavor_db_pkl is a dictionary."
   ]
  },
  {
   "cell_type": "markdown",
   "id": "7266fcb9",
   "metadata": {},
   "source": [
    "## Functions"
   ]
  },
  {
   "cell_type": "code",
   "execution_count": 7,
   "id": "c48e6b64",
   "metadata": {},
   "outputs": [],
   "source": [
    "def get_list_from_synonyms(basket):\n",
    "    if not basket:\n",
    "        return []\n",
    "    basket = basket.lower()\n",
    "    return basket.split(', ')\n",
    "\n",
    "def get_similarity_word(x, word):\n",
    "    x = x.replace('-', ' ')\n",
    "    word = word.lower()\n",
    "    if ' ' + word + ' ' in ' ' + x + ' ':\n",
    "        return 1\n",
    "    return difflib.SequenceMatcher(None, word, x).ratio()\n",
    "\n",
    "def json_reader(x):\n",
    "    return json.loads(x.replace(\"'\", '\"'))"
   ]
  },
  {
   "cell_type": "markdown",
   "id": "ba43b557",
   "metadata": {},
   "source": [
    "## Data Process"
   ]
  },
  {
   "cell_type": "code",
   "execution_count": 8,
   "id": "4779b8c8",
   "metadata": {},
   "outputs": [],
   "source": [
    "# Se lee el archivo pkl y se procesa para convertir en dataframe.\n",
    "flavor_db = pd.DataFrame(flavor_db_pkl)\n",
    "flavor_db = flavor_db.T\n",
    "flavor_db = flavor_db[flavor_db.isna().sum(axis=1)<5] # Quitamos todos los valores nulos\n",
    "flavor_db = flavor_db.reset_index(drop=True)"
   ]
  },
  {
   "cell_type": "code",
   "execution_count": 11,
   "id": "0847f32b",
   "metadata": {},
   "outputs": [],
   "source": [
    "# Se agregan columnas adicionales.\n",
    "flavor_db_df = flavor_db.copy()\n",
    "flavor_db_df['all_synonyms'] = (\n",
    "    flavor_db_df[\"entity_alias\"].astype('str') + ', ' + \n",
    "    flavor_db_df[\"entity_alias_basket\"].astype('str') + ', ' + \n",
    "    flavor_db_df['entity_alias_synonyms'].astype('str')\n",
    ")\n",
    "flavor_db_df[\"entity_alias_synonyms_list\"] = flavor_db_df[\"all_synonyms\"].astype(\"str\").apply(get_list_from_synonyms)\n",
    "\n",
    "exploded_flavor_db = flavor_db_df.explode(\"entity_alias_synonyms_list\")[['entity_id', 'entity_alias_synonyms_list']]\n",
    "exploded_flavor_db.loc[exploded_flavor_db.entity_alias_synonyms_list == 'nan'] = np.nan\n",
    "exploded_flavor_db = exploded_flavor_db.dropna()"
   ]
  },
  {
   "cell_type": "code",
   "execution_count": 13,
   "id": "eda5bb46",
   "metadata": {},
   "outputs": [],
   "source": [
    "# Ahora podemos acceder a la lista unica de ingredientes en \n",
    "# la usda que fueron procesados por un LLM. \n",
    "ingredients_description = final_ingredient_list_df"
   ]
  },
  {
   "cell_type": "code",
   "execution_count": 14,
   "id": "de9df3dd",
   "metadata": {},
   "outputs": [],
   "source": [
    "stopwords = [\n",
    "    'table',\n",
    "    'water',\n",
    "]"
   ]
  },
  {
   "cell_type": "code",
   "execution_count": 15,
   "id": "c5e8a5a4",
   "metadata": {},
   "outputs": [],
   "source": [
    "preliminary_results = {}\n",
    "# Para cada elemento en los ingredientes se encuentra la entidad de flavordb que tenga cierta relación o sentido. \n",
    "for ingredient_pos in range(ingredients_description.shape[0]):\n",
    "    word_list = []\n",
    "    results_test = pd.DataFrame()\n",
    "    for word in ingredients_description.iloc[ingredient_pos]:\n",
    "        if word in stopwords:\n",
    "            word = ''\n",
    "        if word:\n",
    "            word_list.append(word)\n",
    "            results_test[word] = exploded_flavor_db.entity_alias_synonyms_list.apply(get_similarity_word, word=word) > 0.9\n",
    "    most_relevant_info = pd.concat([exploded_flavor_db[results_test[word]] for word in word_list]).entity_id.value_counts()\n",
    "    try:\n",
    "        most_relevant_index = most_relevant_info.index[0]\n",
    "    except:\n",
    "        most_relevant_index = -1\n",
    "    r = flavor_db_df[flavor_db_df.entity_id==int(most_relevant_index)]\n",
    "    r['ingredient_list'] = [word_list]\n",
    "    preliminary_results[ingredient_pos] = r"
   ]
  },
  {
   "cell_type": "code",
   "execution_count": 33,
   "id": "28291a6a",
   "metadata": {},
   "outputs": [
    {
     "data": {
      "text/plain": [
       "ingredient     cheese\n",
       "procedence           \n",
       "type                 \n",
       "descriptors          \n",
       "Name: 10, dtype: object"
      ]
     },
     "execution_count": 33,
     "metadata": {},
     "output_type": "execute_result"
    }
   ],
   "source": [
    "ingredients_description.iloc[10]"
   ]
  },
  {
   "cell_type": "code",
   "execution_count": 34,
   "id": "639edebc",
   "metadata": {},
   "outputs": [
    {
     "data": {
      "text/html": [
       "<div>\n",
       "<style scoped>\n",
       "    .dataframe tbody tr th:only-of-type {\n",
       "        vertical-align: middle;\n",
       "    }\n",
       "\n",
       "    .dataframe tbody tr th {\n",
       "        vertical-align: top;\n",
       "    }\n",
       "\n",
       "    .dataframe thead th {\n",
       "        text-align: right;\n",
       "    }\n",
       "</style>\n",
       "<table border=\"1\" class=\"dataframe\">\n",
       "  <thead>\n",
       "    <tr style=\"text-align: right;\">\n",
       "      <th></th>\n",
       "      <th>category</th>\n",
       "      <th>entity_id</th>\n",
       "      <th>category_readable</th>\n",
       "      <th>entity_alias_basket</th>\n",
       "      <th>entity_alias_readable</th>\n",
       "      <th>natural_source_name</th>\n",
       "      <th>entity_alias</th>\n",
       "      <th>molecules</th>\n",
       "      <th>natural_source_url</th>\n",
       "      <th>entity_alias_url</th>\n",
       "      <th>entity_alias_synonyms</th>\n",
       "      <th>all_synonyms</th>\n",
       "      <th>entity_alias_synonyms_list</th>\n",
       "      <th>ingredient_list</th>\n",
       "    </tr>\n",
       "  </thead>\n",
       "  <tbody>\n",
       "    <tr>\n",
       "      <th>69</th>\n",
       "      <td>dairy</td>\n",
       "      <td>69</td>\n",
       "      <td>Dairy</td>\n",
       "      <td>cheese, cheese-domiati</td>\n",
       "      <td>Domiati Cheese</td>\n",
       "      <td>Water Buffalo</td>\n",
       "      <td>cheese-domiati</td>\n",
       "      <td>[{'bond_stereo_count': 0, 'undefined_atom_ster...</td>\n",
       "      <td>https://en.wikipedia.org/wiki/Water_buffalo</td>\n",
       "      <td>https://en.wikipedia.org/wiki/Domiati</td>\n",
       "      <td>Domiati Cheese, White Cheese</td>\n",
       "      <td>cheese-domiati, cheese, cheese-domiati, Domiat...</td>\n",
       "      <td>[cheese-domiati, cheese, cheese-domiati, domia...</td>\n",
       "      <td>[cheese]</td>\n",
       "    </tr>\n",
       "  </tbody>\n",
       "</table>\n",
       "</div>"
      ],
      "text/plain": [
       "   category entity_id category_readable     entity_alias_basket  \\\n",
       "69    dairy        69             Dairy  cheese, cheese-domiati   \n",
       "\n",
       "   entity_alias_readable natural_source_name    entity_alias  \\\n",
       "69        Domiati Cheese       Water Buffalo  cheese-domiati   \n",
       "\n",
       "                                            molecules  \\\n",
       "69  [{'bond_stereo_count': 0, 'undefined_atom_ster...   \n",
       "\n",
       "                             natural_source_url  \\\n",
       "69  https://en.wikipedia.org/wiki/Water_buffalo   \n",
       "\n",
       "                         entity_alias_url         entity_alias_synonyms  \\\n",
       "69  https://en.wikipedia.org/wiki/Domiati  Domiati Cheese, White Cheese   \n",
       "\n",
       "                                         all_synonyms  \\\n",
       "69  cheese-domiati, cheese, cheese-domiati, Domiat...   \n",
       "\n",
       "                           entity_alias_synonyms_list ingredient_list  \n",
       "69  [cheese-domiati, cheese, cheese-domiati, domia...        [cheese]  "
      ]
     },
     "execution_count": 34,
     "metadata": {},
     "output_type": "execute_result"
    }
   ],
   "source": [
    "preliminary_results[10]"
   ]
  },
  {
   "cell_type": "code",
   "execution_count": 31,
   "id": "bc7ced39",
   "metadata": {},
   "outputs": [
    {
     "data": {
      "text/plain": [
       "array(['', 'sweet whiskey taste', 'sour', 'slightly bitter taste',\n",
       "       'cheesy taste', 'fleeting, fruity taste',\n",
       "       'unpleasant cabbage taste',\n",
       "       'pleasant, bittersweet flavor reminiscent of pear on dilution.',\n",
       "       'camphor taste@cheese@bitter', 'fatty, fruity@aromatic flavor',\n",
       "       'pungent, spicy taste', 'acid taste', 'old fish@saline taste',\n",
       "       'sweet, pineapple taste@can be tasted in water at a level of 0.450 ppm and at 0.015 ppm in milk',\n",
       "       'characeteristic fruity taste (on dilution)@green, woody, vegetative, apple, grassy, citrus and orange with a fresh lingering aftertaste',\n",
       "       'oily, sweet, slightly herbaceous taste',\n",
       "       'acrid taste@it has sweetish, afterward acrid, taste',\n",
       "       'slightly bitter taste@burning taste', 'bitter', 'fatty taste',\n",
       "       'sharp, burning taste@when in very weak solution it has a sweetish taste.',\n",
       "       'oily, somewhat orange taste', 'characteristic flavor',\n",
       "       'fruity taste',\n",
       "       'honey & orris-like flavor at trace levels@coconut taste',\n",
       "       'fatty, waxy flavor',\n",
       "       'warm, slightly fruity, & nut-like at low levels@pleasant, chocolate aroma & taste@... it has sharp, penetrating flavor',\n",
       "       'initially slightly bitter taste then sweet & reminiscent of peach@sharp burning taste',\n",
       "       'characteristic pungent, fatty flavor',\n",
       "       'slight, characteristic fatty taste',\n",
       "       'slightly sour taste@slightly unpleasant rancid taste',\n",
       "       'peculiar lard-like taste', 'pungent, repulsive taste',\n",
       "       'bittersweet taste suggestive of pear',\n",
       "       'characteristic ripe, fruity flavor@taste detection: 7.50x10+3 ppm, purity of sample not specified@burning taste',\n",
       "       'mild acid taste and does not overpower weaker aromatic flavors@taste is acrid',\n",
       "       'sweet apple-like taste', 'sweet, citrus',\n",
       "       'bittersweet taste reminiscent of pear ... taste characteristics at 30 ppm: sweet fruity, banana-like with a green ripe nuance.@slight apple taste',\n",
       "       'taste characteristics at 50 ppm: sweet, buttery, creamy and milky@threshold taste detection in milk (gas chromatically pure): 1.40x10-2 ppm and 2.90x10-2 ppm@in skim milk: 1.00x10-1 ppm@threshold taste detection in water (gas chromatically pure): 5.40x10-3 ppm@in water: 1.00x10-8% (volume/volume or wg/wg).',\n",
       "       'taste characteristics at 30 ppm: floral, woody, sweet with a green, spicy tropical nuance@flavor characteristics: light, floral@spicy, citrus taste',\n",
       "       'unpleasant taste@excellent coconut taste',\n",
       "       'sour & mildly cheese-like',\n",
       "       'at very low levels the flavor is warm, herbaceous, slightly fruit, and nut-like'],\n",
       "      dtype=object)"
      ]
     },
     "execution_count": 31,
     "metadata": {},
     "output_type": "execute_result"
    }
   ],
   "source": [
    "preliminary_results.keys()\n",
    "pd.DataFrame(preliminary_results[10].molecules.iloc[0]).taste.unique()"
   ]
  },
  {
   "cell_type": "code",
   "execution_count": 134,
   "id": "090cd9db",
   "metadata": {},
   "outputs": [],
   "source": [
    "flavor_dict = {}\n",
    "for word in test_set:\n",
    "    word = word.lower( )\n",
    "    exploded_flavor_db[word] = exploded_flavor_db.entity_alias_synonyms_list.apply(get_similarity_word, word=word) > 0.8\n",
    "    food_list = exploded_flavor_db[exploded_flavor_db[word]].entity_alias_synonyms_list.drop_duplicates().to_dict()\n",
    "    flavor_dict[word] = food_list"
   ]
  },
  {
   "cell_type": "code",
   "execution_count": 137,
   "id": "6963db9c",
   "metadata": {},
   "outputs": [
    {
     "data": {
      "text/plain": [
       "{'fat': {89: 'milk fat',\n",
       "  270: 'beef-fat',\n",
       "  272: 'chicken-fat',\n",
       "  275: 'lamb-fat',\n",
       "  277: 'mutton-fat',\n",
       "  278: 'pork-fat',\n",
       "  573: 'fat hen'},\n",
       " 'fish': {151: 'fish',\n",
       "  152: 'fatty fish',\n",
       "  153: 'lean fish',\n",
       "  154: 'fish oil',\n",
       "  155: 'smoked fish',\n",
       "  499: 'devil fish',\n",
       "  517: 'coney-fish',\n",
       "  583: 'frog fish and sea devils',\n",
       "  647: 'bay fish',\n",
       "  735: 'rose fish'},\n",
       " 'vanilla extract': {},\n",
       " 'onion': {348: 'bulb onion', 407: 'redskin onion', 469: 'welsh onion'},\n",
       " 'vitamin d': {},\n",
       " 'vinegar': {322: 'vinegar', 383: 'apple cider vinegar'},\n",
       " 'cereal': {478: 'breakfast cereal'},\n",
       " 'meat': {276: 'meat-roasted'},\n",
       " 'vegetable oil': {},\n",
       " 'tomato': {364: 'tomato-puree',\n",
       "  443: 'cherry tomato',\n",
       "  653: 'mexican husk tomato'},\n",
       " 'celery': {329: 'celery-stalk'},\n",
       " 'milk': {88: 'milk-heated',\n",
       "  89: 'milk fat',\n",
       "  90: 'goat milk',\n",
       "  91: 'milk powder',\n",
       "  92: 'sheep milk',\n",
       "  93: 'skimmed milk'},\n",
       " 'oil': {57: 'maize oil',\n",
       "  97: 'buchu-oil',\n",
       "  98: 'cajeput-oil',\n",
       "  101: 'cedar-leaf-oil',\n",
       "  103: 'citronella-oil',\n",
       "  104: 'citrus peel oil',\n",
       "  108: 'grapefruit peel oil',\n",
       "  110: 'hops oil',\n",
       "  112: 'hyssop oil',\n",
       "  114: 'lemon peel oil',\n",
       "  115: 'lime peel oil',\n",
       "  117: 'mandarin orange peel oil',\n",
       "  118: 'masticgum-oil',\n",
       "  119: 'mentha oil',\n",
       "  121: 'neroli oil',\n",
       "  133: 'ylangylang-oil',\n",
       "  154: 'fish oil',\n",
       "  156: 'salmon-oil',\n",
       "  234: 'strawberry-oil',\n",
       "  236: 'bergamot-oil',\n",
       "  250: 'basil-oil',\n",
       "  255: 'cornmint-oil',\n",
       "  257: 'fennel-oil',\n",
       "  259: 'garlic-oil',\n",
       "  264: 'rosemary-oil',\n",
       "  266: 'spearmint-oil',\n",
       "  290: 'soya bean oil',\n",
       "  306: 'myrtle-oil',\n",
       "  307: 'olive-oil',\n",
       "  317: 'mustard oil',\n",
       "  319: 'peanut oil',\n",
       "  323: 'anise-oil',\n",
       "  328: 'cassia-oil',\n",
       "  330: 'cinnamon-oil',\n",
       "  331: 'clove-oil',\n",
       "  332: 'cumin-oil',\n",
       "  336: 'nutmeg-oil',\n",
       "  348: 'onion-oil',\n",
       "  380: 'canola oil',\n",
       "  729: 'oil palm',\n",
       "  866: 'tea oil camellia'},\n",
       " 'chicken': {272: 'chicken-roasted', 734: 'snow chicken'},\n",
       " 'water': {213: 'water apple',\n",
       "  398: 'water caltrop',\n",
       "  424: 'water convolvulus',\n",
       "  468: 'water oats',\n",
       "  516: 'domestic asian water buffalo '},\n",
       " 'leavening agent': {},\n",
       " 'butter': {60: 'butter-heated', 285: 'butter bean', 318: 'peanut butter'},\n",
       " 'bread': {2: 'bread-preferment',\n",
       "  3: 'rye bread',\n",
       "  4: 'bread-wheaten',\n",
       "  5: 'white bread',\n",
       "  6: 'wholewheat bread',\n",
       "  449: 'bread wheat',\n",
       "  525: \" st john's bread\",\n",
       "  888: 'pita bread',\n",
       "  891: 'other bread product',\n",
       "  892: 'piki bread',\n",
       "  894: 'oat bread',\n",
       "  895: 'potato bread',\n",
       "  898: 'multigrain bread',\n",
       "  899: 'rice bread',\n",
       "  901: 'raisin bread'},\n",
       " 'raisin': {212: 'raisin', 901: 'raisin bread'},\n",
       " 'sauce': {163: 'apple sauce', 291: 'soya sauce'},\n",
       " 'sugar': {59: 'sugar corn', 367: 'sugar beet', 599: 'sugar plum'},\n",
       " 'breading': {},\n",
       " 'cheese': {62: 'cheese',\n",
       "  63: 'blue cheese',\n",
       "  64: 'camembert cheese',\n",
       "  65: 'cheddar cheese',\n",
       "  66: 'comte cheese',\n",
       "  67: 'cottage cheese',\n",
       "  68: 'cream cheese',\n",
       "  69: 'white cheese',\n",
       "  70: 'cheese-emmental',\n",
       "  71: 'feta cheese',\n",
       "  72: 'goat cheese',\n",
       "  73: 'gruyere cheese',\n",
       "  74: 'limburger cheese',\n",
       "  75: 'mozzarella cheese',\n",
       "  76: 'cheese-munster',\n",
       "  77: 'cheese-other',\n",
       "  78: 'parmesan cheese',\n",
       "  79: 'provolone cheese',\n",
       "  80: 'romano cheese',\n",
       "  81: 'roquefort cheese',\n",
       "  82: 'russian cheese',\n",
       "  83: 'sheep cheese',\n",
       "  84: 'swiss cheese',\n",
       "  85: 'tilsit cheese',\n",
       "  302: 'cheese plant',\n",
       "  402: 'cheese-paneer',\n",
       "  405: 'ricotta cheese'},\n",
       " 'egg': {0: 'egg-scrambled'},\n",
       " 'carrot': {368: 'carrot-canned'},\n",
       " 'shortening': {},\n",
       " 'vegetable': {365: 'vegetable pear', 626: 'vegetable oyster'},\n",
       " 'baking powder': {},\n",
       " 'salt': {},\n",
       " 'flour': {}}"
      ]
     },
     "execution_count": 137,
     "metadata": {},
     "output_type": "execute_result"
    }
   ],
   "source": [
    "flavor_dict"
   ]
  }
 ],
 "metadata": {
  "kernelspec": {
   "display_name": "Python 3 (ipykernel)",
   "language": "python",
   "name": "python3"
  },
  "language_info": {
   "codemirror_mode": {
    "name": "ipython",
    "version": 3
   },
   "file_extension": ".py",
   "mimetype": "text/x-python",
   "name": "python",
   "nbconvert_exporter": "python",
   "pygments_lexer": "ipython3",
   "version": "3.8.10"
  }
 },
 "nbformat": 4,
 "nbformat_minor": 5
}
